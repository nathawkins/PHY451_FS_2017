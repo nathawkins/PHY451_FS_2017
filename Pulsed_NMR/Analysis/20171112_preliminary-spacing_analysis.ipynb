{
 "cells": [
  {
   "cell_type": "code",
   "execution_count": 1,
   "metadata": {
    "collapsed": true
   },
   "outputs": [],
   "source": [
    "from scipy.signal import argrelextrema as arg\n",
    "import numpy as np\n",
    "import matplotlib.pyplot as plt\n",
    "%matplotlib inline"
   ]
  },
  {
   "cell_type": "code",
   "execution_count": 2,
   "metadata": {
    "collapsed": true
   },
   "outputs": [],
   "source": [
    "data_dir = \"../Data/\"\n",
    "pi2pulse = np.loadtxt(data_dir+\"20171107_NMR_trial_ch1.isf\", delimiter=\",\")\n",
    "pipulse = np.loadtxt(data_dir+\"20171107_NMR_trial_ch3.isf\", delimiter=\",\")\n",
    "signal = np.loadtxt(data_dir+\"20171107_NMR_trial_ch4.isf\", delimiter=\",\")"
   ]
  },
  {
   "cell_type": "code",
   "execution_count": 3,
   "metadata": {},
   "outputs": [
    {
     "data": {
      "image/png": "[encoded data removed]",
      "text/plain": [
       "<matplotlib.figure.Figure at 0x110c4c668>"
      ]
     },
     "metadata": {},
     "output_type": "display_data"
    }
   ],
   "source": [
    "# how_many = 1000\n",
    "how_many = np.argmax(signal[:,0])\n",
    "order = 300\n",
    "\n",
    "# max_inds = arg(signal[:,1], np.greater, order=800)\n",
    "# min_inds = arg(signal[:,1], np.less, order=400)\n",
    "\n",
    "max_inds = arg(signal[:how_many,1], np.greater, order=order)\n",
    "min_inds = arg(signal[:how_many,1], np.less, order=order)\n",
    "\n",
    "# plt.plot(signal[:,0], 100*signal[:,1], 'g')\n",
    "# plt.plot(pi2pulse[:,0], pi2pulse[:,1], linewidth = 3)\n",
    "\n",
    "plt.plot(signal[:how_many,0], 100*signal[:how_many,1], 'g')\n",
    "plt.plot(pi2pulse[:how_many,0], pi2pulse[:how_many,1], linewidth = 3)\n",
    "\n",
    "\n",
    "plt.plot(signal[max_inds,0], 100*signal[max_inds,1], 'rd')\n",
    "plt.plot(signal[min_inds,0], 100*signal[min_inds,1], 'bd');"
   ]
  },
  {
   "cell_type": "code",
   "execution_count": 4,
   "metadata": {},
   "outputs": [
    {
     "data": {
      "text/plain": [
       "(array([ 453, 1722, 2531, 3127, 4107, 5298, 5898, 6264, 7103, 7878]),)"
      ]
     },
     "execution_count": 4,
     "metadata": {},
     "output_type": "execute_result"
    }
   ],
   "source": [
    "max_inds"
   ]
  },
  {
   "cell_type": "code",
   "execution_count": 5,
   "metadata": {},
   "outputs": [
    {
     "data": {
      "text/plain": [
       "(array([   4,  434, 1189, 1816, 2244, 3208, 3583, 4085, 5174, 6193, 6769,\n",
       "        8370, 9340, 9948]),)"
      ]
     },
     "execution_count": 5,
     "metadata": {},
     "output_type": "execute_result"
    }
   ],
   "source": [
    "min_inds"
   ]
  },
  {
   "cell_type": "code",
   "execution_count": 6,
   "metadata": {
    "collapsed": true
   },
   "outputs": [],
   "source": [
    "end_of_pi2pulse = 524\n",
    "beg_of_pipulse = 4085\n",
    "echo = 7878"
   ]
  },
  {
   "cell_type": "code",
   "execution_count": 7,
   "metadata": {},
   "outputs": [
    {
     "data": {
      "text/plain": [
       "2.0651502386969951"
      ]
     },
     "execution_count": 7,
     "metadata": {},
     "output_type": "execute_result"
    }
   ],
   "source": [
    "time_between_pulse = signal[beg_of_pipulse,0] - signal[end_of_pi2pulse, 0] \n",
    "echo_location = signal[echo,0] - signal[end_of_pi2pulse, 0] \n",
    "echo_location/time_between_pulse"
   ]
  },
  {
   "cell_type": "code",
   "execution_count": 8,
   "metadata": {},
   "outputs": [
    {
     "data": {
      "text/plain": [
       "0.00071220000000000007"
      ]
     },
     "execution_count": 8,
     "metadata": {},
     "output_type": "execute_result"
    }
   ],
   "source": [
    "time_between_pulse"
   ]
  },
  {
   "cell_type": "code",
   "execution_count": 9,
   "metadata": {},
   "outputs": [
    {
     "data": {
      "text/plain": [
       "0.0014708"
      ]
     },
     "execution_count": 9,
     "metadata": {},
     "output_type": "execute_result"
    }
   ],
   "source": [
    "echo_location"
   ]
  },
  {
   "cell_type": "code",
   "execution_count": null,
   "metadata": {
    "collapsed": true
   },
   "outputs": [],
   "source": []
  }
 ],
 "metadata": {
  "kernelspec": {
   "display_name": "Python [default]",
   "language": "python",
   "name": "python3"
  },
  "language_info": {
   "codemirror_mode": {
    "name": "ipython",
    "version": 3
   },
   "file_extension": ".py",
   "mimetype": "text/x-python",
   "name": "python",
   "nbconvert_exporter": "python",
   "pygments_lexer": "ipython3",
   "version": "3.5.4"
  }
 },
 "nbformat": 4,
 "nbformat_minor": 2
}
